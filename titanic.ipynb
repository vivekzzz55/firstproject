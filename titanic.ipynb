{
  "nbformat": 4,
  "nbformat_minor": 0,
  "metadata": {
    "colab": {
      "private_outputs": true,
      "provenance": [],
      "cell_execution_strategy": "setup",
      "authorship_tag": "ABX9TyPMiwz8bzuEa7w5dBObVL89",
      "include_colab_link": true
    },
    "kernelspec": {
      "name": "python3",
      "display_name": "Python 3"
    },
    "language_info": {
      "name": "python"
    }
  },
  "cells": [
    {
      "cell_type": "markdown",
      "metadata": {
        "id": "view-in-github",
        "colab_type": "text"
      },
      "source": [
        "<a href=\"https://colab.research.google.com/github/vivekzzz55/firstproject/blob/main/titanic.ipynb\" target=\"_parent\"><img src=\"https://colab.research.google.com/assets/colab-badge.svg\" alt=\"Open In Colab\"/></a>"
      ]
    },
    {
      "cell_type": "markdown",
      "source": [
        "Step 1: Import Libraries"
      ],
      "metadata": {
        "id": "CTY5Q77-LR3F"
      }
    },
    {
      "cell_type": "code",
      "source": [
        "\n",
        "import pandas as pd\n",
        "import numpy as np\n",
        "import matplotlib.pyplot as plt\n",
        "import seaborn as sns\n",
        "\n",
        "from sklearn.model_selection import train_test_split, GridSearchCV\n",
        "from sklearn.model_selection import train_test_split\n",
        "from sklearn.ensemble import RandomForestClassifier\n",
        "from sklearn.metrics import accuracy_score, classification_report\n",
        "from sklearn.impute import SimpleImputer\n",
        "from sklearn.preprocessing import LabelEncoder\n",
        "\n"
      ],
      "metadata": {
        "id": "gYqTM5zMLCPe"
      },
      "execution_count": null,
      "outputs": []
    },
    {
      "cell_type": "markdown",
      "source": [
        "Step 2: Load the Dataset"
      ],
      "metadata": {
        "id": "cJMdTs-oLXJd"
      }
    },
    {
      "cell_type": "code",
      "source": [
        "# Load the Titanic dataset\n",
        "titanic_data = pd.read_csv('titanic.csv')\n",
        "\n",
        "# Display the first few rows of the dataset\n",
        "print(titanic_data.head())\n"
      ],
      "metadata": {
        "id": "PmTr-NIvLDlz"
      },
      "execution_count": null,
      "outputs": []
    },
    {
      "cell_type": "markdown",
      "source": [
        "Exploratory Data Analysis (EDA)"
      ],
      "metadata": {
        "id": "wYy2DlRnPQhL"
      }
    },
    {
      "cell_type": "code",
      "source": [
        "# Visualize survival based on socio-economic status (Pclass)\n",
        "plt.figure(figsize=(8, 5))\n",
        "sns.countplot(x='Pclass', hue='Survived', data=titanic_data)\n",
        "plt.title('Survival based on Socio-Economic Status (Pclass)')\n",
        "plt.show()\n",
        "\n",
        "# Visualize survival based on gender\n",
        "plt.figure(figsize=(8, 5))\n",
        "sns.countplot(x='Sex', hue='Survived', data=titanic_data)\n",
        "plt.title('Survival based on Gender')\n",
        "plt.show()\n",
        "\n",
        "# Visualize survival based on age\n",
        "plt.figure(figsize=(12, 6))\n",
        "sns.histplot(x='Age', hue='Survived', data=titanic_data, kde=True)\n",
        "plt.title('Survival based on Age')\n",
        "plt.show()\n"
      ],
      "metadata": {
        "id": "pZFFWBJ7Lc_a"
      },
      "execution_count": null,
      "outputs": []
    },
    {
      "cell_type": "markdown",
      "source": [
        "Preprocess the Data"
      ],
      "metadata": {
        "id": "_jO1nI38PWR7"
      }
    },
    {
      "cell_type": "code",
      "source": [
        "# Label encode 'Sex'\n",
        "label_encoder = LabelEncoder()\n",
        "titanic_data['Sex'] = label_encoder.fit_transform(titanic_data['Sex'])\n",
        "\n",
        "# Impute missing values in 'Age' with the median\n",
        "imputer = SimpleImputer(strategy='median')\n",
        "titanic_data['Age'] = imputer.fit_transform(titanic_data[['Age']])\n",
        "\n",
        "# Select features and target variable\n",
        "features = ['Pclass', 'Sex', 'Age', 'SibSp', 'Parch']\n",
        "target = 'Survived'\n",
        "\n",
        "X = titanic_data[features]\n",
        "y = titanic_data[target]\n"
      ],
      "metadata": {
        "id": "h4zykQWRLwpy"
      },
      "execution_count": null,
      "outputs": []
    },
    {
      "cell_type": "markdown",
      "source": [
        "Split the Data into Training and Testing Sets"
      ],
      "metadata": {
        "id": "7daGSdqvPddS"
      }
    },
    {
      "cell_type": "code",
      "source": [
        "X_train, X_test, y_train, y_test = train_test_split(X, y, test_size=10, random_state=60)\n"
      ],
      "metadata": {
        "id": "OUsU9yu_L08i"
      },
      "execution_count": null,
      "outputs": []
    },
    {
      "cell_type": "markdown",
      "source": [
        "Train the Model"
      ],
      "metadata": {
        "id": "RTmiKj0wPnEb"
      }
    },
    {
      "cell_type": "code",
      "source": [
        "# Create a RandomForestClassifier model\n",
        "model = RandomForestClassifier(random_state=60)\n",
        "\n",
        "# Train the model\n",
        "model.fit(X_train, y_train)\n",
        "# Plot the feature importances\n"
      ],
      "metadata": {
        "id": "vdOV2jsFL3al"
      },
      "execution_count": null,
      "outputs": []
    },
    {
      "cell_type": "markdown",
      "source": [
        " Make Predictions and Evaluate the Model"
      ],
      "metadata": {
        "id": "9dHosx0BPpiz"
      }
    },
    {
      "cell_type": "code",
      "source": [
        "# Make predictions on the test set\n",
        "predictions = model.predict(X_test)\n",
        "\n",
        "# Evaluate the model\n",
        "accuracy = accuracy_score(y_test, predictions)\n",
        "print(f'Accuracy: {accuracy:.2f}')\n",
        "\n",
        "# Display classification report\n",
        "print('\\nClassification Report:\\n', classification_report(y_test, predictions))\n"
      ],
      "metadata": {
        "id": "zxWrP_QgOHbC"
      },
      "execution_count": null,
      "outputs": []
    }
  ]
}